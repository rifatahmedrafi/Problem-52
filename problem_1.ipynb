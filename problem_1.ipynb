{
 "cells": [
  {
   "cell_type": "markdown",
   "id": "daf3550e",
   "metadata": {},
   "source": [
    "# Given an integer, find out whether it is even or odd.\n",
    "একটি পূর্ণসংখ্যা দেওয়া, এটি জোড় বা বিজোড় কিনা তা খুঁজে বের করুন।"
   ]
  },
  {
   "cell_type": "code",
   "execution_count": 6,
   "id": "ab5d7539",
   "metadata": {},
   "outputs": [
    {
     "name": "stdout",
     "output_type": "stream",
     "text": [
      "Please enter your integer number: 5\n",
      "The number is Odd\n"
     ]
    }
   ],
   "source": [
    "num = int(input(\"Please enter your integer number: \"))\n",
    "\n",
    "if (num % 2 == 0):\n",
    "    print(\"The number is Even\")\n",
    "else:\n",
    "    print(\"The number is Odd\")"
   ]
  },
  {
   "cell_type": "code",
   "execution_count": 7,
   "id": "820ce361",
   "metadata": {},
   "outputs": [
    {
     "name": "stdout",
     "output_type": "stream",
     "text": [
      "Please enter your integer number: 1000\n",
      "The number is Even\n"
     ]
    }
   ],
   "source": [
    "num = int(input(\"Please enter your integer number: \"))\n",
    "\n",
    "if (num % 2 == 0):\n",
    "    print(\"The number is Even\")\n",
    "else:\n",
    "    print(\"The number is Odd\")"
   ]
  }
 ],
 "metadata": {
  "kernelspec": {
   "display_name": "Python 3 (ipykernel)",
   "language": "python",
   "name": "python3"
  },
  "language_info": {
   "codemirror_mode": {
    "name": "ipython",
    "version": 3
   },
   "file_extension": ".py",
   "mimetype": "text/x-python",
   "name": "python",
   "nbconvert_exporter": "python",
   "pygments_lexer": "ipython3",
   "version": "3.9.12"
  }
 },
 "nbformat": 4,
 "nbformat_minor": 5
}
